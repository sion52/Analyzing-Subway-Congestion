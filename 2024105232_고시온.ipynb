{
 "cells": [
  {
   "cell_type": "markdown",
   "metadata": {},
   "source": [
    "> # 서울시 지하철 혼잡도 분석\n",
    "- 학번: 2024105232\n",
    "- 학과: 소프트웨어융합학과\n",
    "- 학년: 1\n",
    "- 이름: 고시온"
   ]
  },
  {
   "cell_type": "markdown",
   "metadata": {},
   "source": [
    "> # 1. 주제\n",
    "+ 주제: 서울시 지하철 혼잡도 분석\n",
    "- 선정 이유: 지하철은 도심에서 많은 교통량을 해소시켜준다. 때문에 지하철을 탈 때 사람이 많아 불편한 경험을 자주 하게 된다. 지하철 혼잡도에 영향을 미치는 요소들을 파악하고 어떤점을 개선하면 혼잡도가 줄어들까 생각해보기 위해 주제를 선정하게 되었다."
   ]
  },
  {
   "cell_type": "markdown",
   "metadata": {},
   "source": [
    "> # 2. 가설 설정\n",
    "- 출근 시간대의 열차 운행시격이 늘어날수록 혼잡도가 늘어날 것이다.\n",
    "+ 표정 속도가 커질수록 혼잡도가 줄어들 것이다.\n",
    "- 평일 운행 횟수가 커질수록 혼잡도가 줄어들 것이다."
   ]
  },
  {
   "cell_type": "markdown",
   "metadata": {},
   "source": [
    "> # 3. 데이터\n",
    "+ [서울교통공사_열차운행현황](https://www.data.go.kr/data/3052776/fileData.do): 1-8호선에 대한 운행정보 등이 정리된 데이터\n",
    "- [서울교통공사_지하철혼잡도정보](http://data.seoul.go.kr/dataList/OA-12928/F/1/datasetView.do): 1-8호선에 대한 시간대별 혼잡도 데이터"
   ]
  },
  {
   "cell_type": "code",
   "execution_count": 1,
   "metadata": {},
   "outputs": [],
   "source": [
    "import numpy as np\n",
    "import pandas as pd\n",
    "import matplotlib.pyplot as plt"
   ]
  },
  {
   "cell_type": "code",
   "execution_count": 2,
   "metadata": {},
   "outputs": [],
   "source": [
    "# 데이터 불러오기\n",
    "df_train= pd.read_csv(\"./data/열차운행.csv\", encoding='euc-kr')\n",
    "df_jam= pd.read_csv(\"./data/혼잡도.csv\", encoding='euc-kr')"
   ]
  },
  {
   "cell_type": "markdown",
   "metadata": {},
   "source": [
    "(1) 서울시 열차 운행 현황 데이터(2023)\n",
    "- (표정속도) 호선별 열차의 운행거리을 소요시간으로 나눈 값(km/h)\n",
    "+ (운행시격_출근) 출근시간대(07:00~09:00) 호선별 열차의 운행간격을 나타내는 값(분)\n",
    "- (운행횟수_평일) 평일 호선별 열차의 횟수를 나타내는 값"
   ]
  },
  {
   "cell_type": "code",
   "execution_count": 3,
   "metadata": {},
   "outputs": [
    {
     "data": {
      "text/html": [
       "<div>\n",
       "<style scoped>\n",
       "    .dataframe tbody tr th:only-of-type {\n",
       "        vertical-align: middle;\n",
       "    }\n",
       "\n",
       "    .dataframe tbody tr th {\n",
       "        vertical-align: top;\n",
       "    }\n",
       "\n",
       "    .dataframe thead th {\n",
       "        text-align: right;\n",
       "    }\n",
       "</style>\n",
       "<table border=\"1\" class=\"dataframe\">\n",
       "  <thead>\n",
       "    <tr style=\"text-align: right;\">\n",
       "      <th></th>\n",
       "      <th>연번</th>\n",
       "      <th>호선</th>\n",
       "      <th>구간</th>\n",
       "      <th>영업거리</th>\n",
       "      <th>역수</th>\n",
       "      <th>소요시간</th>\n",
       "      <th>보유차량칸수</th>\n",
       "      <th>열차편성수</th>\n",
       "      <th>편성당칸수</th>\n",
       "      <th>표정속도</th>\n",
       "      <th>열차주행거리_평일</th>\n",
       "      <th>운행시격_출근</th>\n",
       "      <th>운행시격_평시</th>\n",
       "      <th>운행횟수_평일</th>\n",
       "      <th>운행횟수_휴일</th>\n",
       "    </tr>\n",
       "  </thead>\n",
       "  <tbody>\n",
       "    <tr>\n",
       "      <th>0</th>\n",
       "      <td>1</td>\n",
       "      <td>1호선</td>\n",
       "      <td>서울~청량리</td>\n",
       "      <td>7.8</td>\n",
       "      <td>10</td>\n",
       "      <td>18</td>\n",
       "      <td>160</td>\n",
       "      <td>16</td>\n",
       "      <td>10</td>\n",
       "      <td>26</td>\n",
       "      <td>5092</td>\n",
       "      <td>3</td>\n",
       "      <td>5</td>\n",
       "      <td>589(S88/K501)</td>\n",
       "      <td>535(S78/K457)</td>\n",
       "    </tr>\n",
       "    <tr>\n",
       "      <th>1</th>\n",
       "      <td>2</td>\n",
       "      <td>2호선</td>\n",
       "      <td>성수~성수[성수지선/신정지선]</td>\n",
       "      <td>48.8[5.4/6.0]</td>\n",
       "      <td>43[4/3]</td>\n",
       "      <td>90[9/11]</td>\n",
       "      <td>750[20/24]</td>\n",
       "      <td>75[5/4]</td>\n",
       "      <td>10[4/6]</td>\n",
       "      <td>32.5[36.0/32.7]</td>\n",
       "      <td>23728[1249.8/1344.2]</td>\n",
       "      <td>2.5[7.0/10.0]</td>\n",
       "      <td>5.5[10.0/10.0]</td>\n",
       "      <td>528[226/220]</td>\n",
       "      <td>424[208/212]</td>\n",
       "    </tr>\n",
       "    <tr>\n",
       "      <th>2</th>\n",
       "      <td>3</td>\n",
       "      <td>3호선</td>\n",
       "      <td>지축~오금</td>\n",
       "      <td>38.2</td>\n",
       "      <td>34</td>\n",
       "      <td>67.5</td>\n",
       "      <td>490</td>\n",
       "      <td>49</td>\n",
       "      <td>10</td>\n",
       "      <td>34</td>\n",
       "      <td>14236.4</td>\n",
       "      <td>3</td>\n",
       "      <td>6.5</td>\n",
       "      <td>407(S299/K108)</td>\n",
       "      <td>369(S282/K87)</td>\n",
       "    </tr>\n",
       "    <tr>\n",
       "      <th>3</th>\n",
       "      <td>4</td>\n",
       "      <td>4호선</td>\n",
       "      <td>진접~남태령</td>\n",
       "      <td>45.4</td>\n",
       "      <td>29</td>\n",
       "      <td>68</td>\n",
       "      <td>520</td>\n",
       "      <td>52</td>\n",
       "      <td>10</td>\n",
       "      <td>40.1</td>\n",
       "      <td>15817.2</td>\n",
       "      <td>2.5</td>\n",
       "      <td>5.5</td>\n",
       "      <td>476(S325/K151)</td>\n",
       "      <td>408(S264/K144)</td>\n",
       "    </tr>\n",
       "    <tr>\n",
       "      <th>4</th>\n",
       "      <td>5</td>\n",
       "      <td>5호선</td>\n",
       "      <td>방화~하남검단산/마천</td>\n",
       "      <td>59.8</td>\n",
       "      <td>56</td>\n",
       "      <td>108.5</td>\n",
       "      <td>640</td>\n",
       "      <td>80</td>\n",
       "      <td>8</td>\n",
       "      <td>33.1</td>\n",
       "      <td>20580.7</td>\n",
       "      <td>2.5</td>\n",
       "      <td>6.5</td>\n",
       "      <td>428</td>\n",
       "      <td>344</td>\n",
       "    </tr>\n",
       "    <tr>\n",
       "      <th>5</th>\n",
       "      <td>6</td>\n",
       "      <td>6호선</td>\n",
       "      <td>응암순환~신내</td>\n",
       "      <td>36.3</td>\n",
       "      <td>39</td>\n",
       "      <td>75</td>\n",
       "      <td>312</td>\n",
       "      <td>39</td>\n",
       "      <td>8</td>\n",
       "      <td>29</td>\n",
       "      <td>10724.4</td>\n",
       "      <td>4</td>\n",
       "      <td>8</td>\n",
       "      <td>340</td>\n",
       "      <td>263</td>\n",
       "    </tr>\n",
       "    <tr>\n",
       "      <th>6</th>\n",
       "      <td>7</td>\n",
       "      <td>7호선</td>\n",
       "      <td>장암~온수</td>\n",
       "      <td>46.9</td>\n",
       "      <td>42</td>\n",
       "      <td>87</td>\n",
       "      <td>592</td>\n",
       "      <td>74</td>\n",
       "      <td>8</td>\n",
       "      <td>32.3</td>\n",
       "      <td>18447.7</td>\n",
       "      <td>2.5</td>\n",
       "      <td>6</td>\n",
       "      <td>402</td>\n",
       "      <td>328</td>\n",
       "    </tr>\n",
       "    <tr>\n",
       "      <th>7</th>\n",
       "      <td>8</td>\n",
       "      <td>8호선</td>\n",
       "      <td>암사~모란</td>\n",
       "      <td>17.7</td>\n",
       "      <td>18</td>\n",
       "      <td>32.5</td>\n",
       "      <td>120</td>\n",
       "      <td>20</td>\n",
       "      <td>6</td>\n",
       "      <td>32.7</td>\n",
       "      <td>5193.8</td>\n",
       "      <td>4.5</td>\n",
       "      <td>8.5</td>\n",
       "      <td>292</td>\n",
       "      <td>252</td>\n",
       "    </tr>\n",
       "  </tbody>\n",
       "</table>\n",
       "</div>"
      ],
      "text/plain": [
       "   연번   호선                구간           영업거리       역수      소요시간      보유차량칸수  \\\n",
       "0   1  1호선            서울~청량리            7.8       10        18         160   \n",
       "1   2  2호선  성수~성수[성수지선/신정지선]  48.8[5.4/6.0]  43[4/3]  90[9/11]  750[20/24]   \n",
       "2   3  3호선             지축~오금           38.2       34      67.5         490   \n",
       "3   4  4호선            진접~남태령           45.4       29        68         520   \n",
       "4   5  5호선       방화~하남검단산/마천           59.8       56     108.5         640   \n",
       "5   6  6호선           응암순환~신내           36.3       39        75         312   \n",
       "6   7  7호선             장암~온수           46.9       42        87         592   \n",
       "7   8  8호선             암사~모란           17.7       18      32.5         120   \n",
       "\n",
       "     열차편성수    편성당칸수             표정속도             열차주행거리_평일        운행시격_출근  \\\n",
       "0       16       10               26                  5092              3   \n",
       "1  75[5/4]  10[4/6]  32.5[36.0/32.7]  23728[1249.8/1344.2]  2.5[7.0/10.0]   \n",
       "2       49       10               34               14236.4              3   \n",
       "3       52       10             40.1               15817.2            2.5   \n",
       "4       80        8             33.1               20580.7            2.5   \n",
       "5       39        8               29               10724.4              4   \n",
       "6       74        8             32.3               18447.7            2.5   \n",
       "7       20        6             32.7                5193.8            4.5   \n",
       "\n",
       "          운행시격_평시         운행횟수_평일         운행횟수_휴일  \n",
       "0               5   589(S88/K501)   535(S78/K457)  \n",
       "1  5.5[10.0/10.0]    528[226/220]    424[208/212]  \n",
       "2             6.5  407(S299/K108)   369(S282/K87)  \n",
       "3             5.5  476(S325/K151)  408(S264/K144)  \n",
       "4             6.5             428             344  \n",
       "5               8             340             263  \n",
       "6               6             402             328  \n",
       "7             8.5             292             252  "
      ]
     },
     "execution_count": 3,
     "metadata": {},
     "output_type": "execute_result"
    }
   ],
   "source": [
    "df_train"
   ]
  },
  {
   "cell_type": "markdown",
   "metadata": {},
   "source": [
    "(2) 서울시 시간대별 열차 혼잡도 데이터(2023)\n",
    "- (혼잡도) 열차 내부의 혼잡한 정도. 정원 대비 승차인원으로, 승차인원과 좌석수가 일치할 경우 혼잡도 34%로 산정함.(%)"
   ]
  },
  {
   "cell_type": "code",
   "execution_count": 4,
   "metadata": {},
   "outputs": [
    {
     "data": {
      "text/html": [
       "<div>\n",
       "<style scoped>\n",
       "    .dataframe tbody tr th:only-of-type {\n",
       "        vertical-align: middle;\n",
       "    }\n",
       "\n",
       "    .dataframe tbody tr th {\n",
       "        vertical-align: top;\n",
       "    }\n",
       "\n",
       "    .dataframe thead th {\n",
       "        text-align: right;\n",
       "    }\n",
       "</style>\n",
       "<table border=\"1\" class=\"dataframe\">\n",
       "  <thead>\n",
       "    <tr style=\"text-align: right;\">\n",
       "      <th></th>\n",
       "      <th>연번</th>\n",
       "      <th>요일구분</th>\n",
       "      <th>호선</th>\n",
       "      <th>역번호</th>\n",
       "      <th>출발역</th>\n",
       "      <th>상하구분</th>\n",
       "      <th>5시30분</th>\n",
       "      <th>6시00분</th>\n",
       "      <th>6시30분</th>\n",
       "      <th>7시00분</th>\n",
       "      <th>...</th>\n",
       "      <th>20시30분</th>\n",
       "      <th>21시00분</th>\n",
       "      <th>21시30분</th>\n",
       "      <th>22시00분</th>\n",
       "      <th>22시30분</th>\n",
       "      <th>23시00분</th>\n",
       "      <th>23시30분</th>\n",
       "      <th>00시00분</th>\n",
       "      <th>00시30분</th>\n",
       "      <th>01시00분</th>\n",
       "    </tr>\n",
       "  </thead>\n",
       "  <tbody>\n",
       "    <tr>\n",
       "      <th>0</th>\n",
       "      <td>1</td>\n",
       "      <td>평일</td>\n",
       "      <td>1</td>\n",
       "      <td>150</td>\n",
       "      <td>서울역</td>\n",
       "      <td>상선</td>\n",
       "      <td>7.9</td>\n",
       "      <td>17.7</td>\n",
       "      <td>18.4</td>\n",
       "      <td>32.6</td>\n",
       "      <td>...</td>\n",
       "      <td>17.9</td>\n",
       "      <td>19.5</td>\n",
       "      <td>15.6</td>\n",
       "      <td>15.5</td>\n",
       "      <td>18.7</td>\n",
       "      <td>12.4</td>\n",
       "      <td>9.0</td>\n",
       "      <td>9.3</td>\n",
       "      <td>1.8</td>\n",
       "      <td>0.0</td>\n",
       "    </tr>\n",
       "    <tr>\n",
       "      <th>1</th>\n",
       "      <td>2</td>\n",
       "      <td>평일</td>\n",
       "      <td>1</td>\n",
       "      <td>150</td>\n",
       "      <td>서울역</td>\n",
       "      <td>하선</td>\n",
       "      <td>11.6</td>\n",
       "      <td>11.6</td>\n",
       "      <td>13.2</td>\n",
       "      <td>22.9</td>\n",
       "      <td>...</td>\n",
       "      <td>38.1</td>\n",
       "      <td>35.2</td>\n",
       "      <td>30.9</td>\n",
       "      <td>42.4</td>\n",
       "      <td>29.0</td>\n",
       "      <td>20.5</td>\n",
       "      <td>13.3</td>\n",
       "      <td>5.8</td>\n",
       "      <td>0.0</td>\n",
       "      <td>0.0</td>\n",
       "    </tr>\n",
       "    <tr>\n",
       "      <th>2</th>\n",
       "      <td>3</td>\n",
       "      <td>평일</td>\n",
       "      <td>1</td>\n",
       "      <td>151</td>\n",
       "      <td>시청</td>\n",
       "      <td>상선</td>\n",
       "      <td>7.2</td>\n",
       "      <td>14.5</td>\n",
       "      <td>15.1</td>\n",
       "      <td>25.8</td>\n",
       "      <td>...</td>\n",
       "      <td>22.6</td>\n",
       "      <td>24.0</td>\n",
       "      <td>19.3</td>\n",
       "      <td>19.9</td>\n",
       "      <td>22.2</td>\n",
       "      <td>16.5</td>\n",
       "      <td>12.4</td>\n",
       "      <td>6.5</td>\n",
       "      <td>2.2</td>\n",
       "      <td>0.0</td>\n",
       "    </tr>\n",
       "    <tr>\n",
       "      <th>3</th>\n",
       "      <td>4</td>\n",
       "      <td>평일</td>\n",
       "      <td>1</td>\n",
       "      <td>151</td>\n",
       "      <td>시청</td>\n",
       "      <td>하선</td>\n",
       "      <td>9.3</td>\n",
       "      <td>10.1</td>\n",
       "      <td>14.8</td>\n",
       "      <td>21.6</td>\n",
       "      <td>...</td>\n",
       "      <td>34.6</td>\n",
       "      <td>31.6</td>\n",
       "      <td>30.4</td>\n",
       "      <td>33.0</td>\n",
       "      <td>24.3</td>\n",
       "      <td>18.1</td>\n",
       "      <td>11.5</td>\n",
       "      <td>3.9</td>\n",
       "      <td>0.5</td>\n",
       "      <td>0.0</td>\n",
       "    </tr>\n",
       "    <tr>\n",
       "      <th>4</th>\n",
       "      <td>5</td>\n",
       "      <td>평일</td>\n",
       "      <td>1</td>\n",
       "      <td>152</td>\n",
       "      <td>종각</td>\n",
       "      <td>상선</td>\n",
       "      <td>7.0</td>\n",
       "      <td>12.7</td>\n",
       "      <td>10.5</td>\n",
       "      <td>17.5</td>\n",
       "      <td>...</td>\n",
       "      <td>27.7</td>\n",
       "      <td>31.9</td>\n",
       "      <td>25.3</td>\n",
       "      <td>27.5</td>\n",
       "      <td>28.3</td>\n",
       "      <td>21.5</td>\n",
       "      <td>15.1</td>\n",
       "      <td>7.4</td>\n",
       "      <td>2.0</td>\n",
       "      <td>0.0</td>\n",
       "    </tr>\n",
       "    <tr>\n",
       "      <th>...</th>\n",
       "      <td>...</td>\n",
       "      <td>...</td>\n",
       "      <td>...</td>\n",
       "      <td>...</td>\n",
       "      <td>...</td>\n",
       "      <td>...</td>\n",
       "      <td>...</td>\n",
       "      <td>...</td>\n",
       "      <td>...</td>\n",
       "      <td>...</td>\n",
       "      <td>...</td>\n",
       "      <td>...</td>\n",
       "      <td>...</td>\n",
       "      <td>...</td>\n",
       "      <td>...</td>\n",
       "      <td>...</td>\n",
       "      <td>...</td>\n",
       "      <td>...</td>\n",
       "      <td>...</td>\n",
       "      <td>...</td>\n",
       "      <td>...</td>\n",
       "    </tr>\n",
       "    <tr>\n",
       "      <th>1651</th>\n",
       "      <td>1652</td>\n",
       "      <td>일요일</td>\n",
       "      <td>8</td>\n",
       "      <td>2826</td>\n",
       "      <td>수진</td>\n",
       "      <td>하선</td>\n",
       "      <td>9.8</td>\n",
       "      <td>4.3</td>\n",
       "      <td>3.4</td>\n",
       "      <td>2.7</td>\n",
       "      <td>...</td>\n",
       "      <td>1.9</td>\n",
       "      <td>3.0</td>\n",
       "      <td>1.8</td>\n",
       "      <td>1.6</td>\n",
       "      <td>1.1</td>\n",
       "      <td>1.0</td>\n",
       "      <td>0.7</td>\n",
       "      <td>0.3</td>\n",
       "      <td>NaN</td>\n",
       "      <td>NaN</td>\n",
       "    </tr>\n",
       "    <tr>\n",
       "      <th>1652</th>\n",
       "      <td>1653</td>\n",
       "      <td>일요일</td>\n",
       "      <td>8</td>\n",
       "      <td>2827</td>\n",
       "      <td>모란</td>\n",
       "      <td>상선</td>\n",
       "      <td>1.2</td>\n",
       "      <td>0.8</td>\n",
       "      <td>2.5</td>\n",
       "      <td>2.1</td>\n",
       "      <td>...</td>\n",
       "      <td>5.7</td>\n",
       "      <td>6.5</td>\n",
       "      <td>6.2</td>\n",
       "      <td>3.7</td>\n",
       "      <td>5.0</td>\n",
       "      <td>3.4</td>\n",
       "      <td>2.9</td>\n",
       "      <td>NaN</td>\n",
       "      <td>NaN</td>\n",
       "      <td>NaN</td>\n",
       "    </tr>\n",
       "    <tr>\n",
       "      <th>1653</th>\n",
       "      <td>1654</td>\n",
       "      <td>일요일</td>\n",
       "      <td>8</td>\n",
       "      <td>2827</td>\n",
       "      <td>모란</td>\n",
       "      <td>하선</td>\n",
       "      <td>0.0</td>\n",
       "      <td>0.0</td>\n",
       "      <td>0.0</td>\n",
       "      <td>0.0</td>\n",
       "      <td>...</td>\n",
       "      <td>0.0</td>\n",
       "      <td>0.0</td>\n",
       "      <td>0.0</td>\n",
       "      <td>0.0</td>\n",
       "      <td>0.0</td>\n",
       "      <td>0.0</td>\n",
       "      <td>0.0</td>\n",
       "      <td>0.0</td>\n",
       "      <td>NaN</td>\n",
       "      <td>NaN</td>\n",
       "    </tr>\n",
       "    <tr>\n",
       "      <th>1654</th>\n",
       "      <td>1655</td>\n",
       "      <td>일요일</td>\n",
       "      <td>8</td>\n",
       "      <td>2828</td>\n",
       "      <td>남위례</td>\n",
       "      <td>상선</td>\n",
       "      <td>10.9</td>\n",
       "      <td>6.8</td>\n",
       "      <td>9.2</td>\n",
       "      <td>9.0</td>\n",
       "      <td>...</td>\n",
       "      <td>8.0</td>\n",
       "      <td>7.0</td>\n",
       "      <td>5.9</td>\n",
       "      <td>5.2</td>\n",
       "      <td>5.4</td>\n",
       "      <td>3.2</td>\n",
       "      <td>1.7</td>\n",
       "      <td>NaN</td>\n",
       "      <td>NaN</td>\n",
       "      <td>NaN</td>\n",
       "    </tr>\n",
       "    <tr>\n",
       "      <th>1655</th>\n",
       "      <td>1656</td>\n",
       "      <td>일요일</td>\n",
       "      <td>8</td>\n",
       "      <td>2828</td>\n",
       "      <td>남위례</td>\n",
       "      <td>하선</td>\n",
       "      <td>3.6</td>\n",
       "      <td>3.6</td>\n",
       "      <td>3.6</td>\n",
       "      <td>4.2</td>\n",
       "      <td>...</td>\n",
       "      <td>18.2</td>\n",
       "      <td>25.4</td>\n",
       "      <td>20.9</td>\n",
       "      <td>20.9</td>\n",
       "      <td>16.7</td>\n",
       "      <td>13.6</td>\n",
       "      <td>11.0</td>\n",
       "      <td>0.0</td>\n",
       "      <td>NaN</td>\n",
       "      <td>NaN</td>\n",
       "    </tr>\n",
       "  </tbody>\n",
       "</table>\n",
       "<p>1656 rows × 46 columns</p>\n",
       "</div>"
      ],
      "text/plain": [
       "        연번 요일구분  호선   역번호  출발역 상하구분  5시30분  6시00분  6시30분  7시00분  ...  20시30분  \\\n",
       "0        1   평일   1   150  서울역   상선    7.9   17.7   18.4   32.6  ...    17.9   \n",
       "1        2   평일   1   150  서울역   하선   11.6   11.6   13.2   22.9  ...    38.1   \n",
       "2        3   평일   1   151   시청   상선    7.2   14.5   15.1   25.8  ...    22.6   \n",
       "3        4   평일   1   151   시청   하선    9.3   10.1   14.8   21.6  ...    34.6   \n",
       "4        5   평일   1   152   종각   상선    7.0   12.7   10.5   17.5  ...    27.7   \n",
       "...    ...  ...  ..   ...  ...  ...    ...    ...    ...    ...  ...     ...   \n",
       "1651  1652  일요일   8  2826   수진   하선    9.8    4.3    3.4    2.7  ...     1.9   \n",
       "1652  1653  일요일   8  2827   모란   상선    1.2    0.8    2.5    2.1  ...     5.7   \n",
       "1653  1654  일요일   8  2827   모란   하선    0.0    0.0    0.0    0.0  ...     0.0   \n",
       "1654  1655  일요일   8  2828  남위례   상선   10.9    6.8    9.2    9.0  ...     8.0   \n",
       "1655  1656  일요일   8  2828  남위례   하선    3.6    3.6    3.6    4.2  ...    18.2   \n",
       "\n",
       "      21시00분  21시30분  22시00분  22시30분  23시00분  23시30분  00시00분  00시30분  01시00분  \n",
       "0       19.5    15.6    15.5    18.7    12.4     9.0     9.3     1.8     0.0  \n",
       "1       35.2    30.9    42.4    29.0    20.5    13.3     5.8     0.0     0.0  \n",
       "2       24.0    19.3    19.9    22.2    16.5    12.4     6.5     2.2     0.0  \n",
       "3       31.6    30.4    33.0    24.3    18.1    11.5     3.9     0.5     0.0  \n",
       "4       31.9    25.3    27.5    28.3    21.5    15.1     7.4     2.0     0.0  \n",
       "...      ...     ...     ...     ...     ...     ...     ...     ...     ...  \n",
       "1651     3.0     1.8     1.6     1.1     1.0     0.7     0.3     NaN     NaN  \n",
       "1652     6.5     6.2     3.7     5.0     3.4     2.9     NaN     NaN     NaN  \n",
       "1653     0.0     0.0     0.0     0.0     0.0     0.0     0.0     NaN     NaN  \n",
       "1654     7.0     5.9     5.2     5.4     3.2     1.7     NaN     NaN     NaN  \n",
       "1655    25.4    20.9    20.9    16.7    13.6    11.0     0.0     NaN     NaN  \n",
       "\n",
       "[1656 rows x 46 columns]"
      ]
     },
     "execution_count": 4,
     "metadata": {},
     "output_type": "execute_result"
    }
   ],
   "source": [
    "df_jam"
   ]
  },
  {
   "cell_type": "markdown",
   "metadata": {},
   "source": [
    "> # 4. 분석\n",
    "### 4-1. 출근 시간대의 열차 운행시격이 늘어날 수록 혼잡도가 늘어날 것이다."
   ]
  },
  {
   "cell_type": "markdown",
   "metadata": {},
   "source": [
    "(1) 운행 시격 추출"
   ]
  },
  {
   "cell_type": "code",
   "execution_count": 5,
   "metadata": {},
   "outputs": [],
   "source": [
    "Train_Interval= df_train['운행시격_출근'].tolist()\n",
    "Train_Interval[1]= '2.5'\n",
    "Train_Interval= [float(i) for i in Train_Interval]"
   ]
  },
  {
   "cell_type": "markdown",
   "metadata": {},
   "source": [
    "(2) 각 호선의 러시 아워(07:00~09:00)일 때 평균 혼잡도 계산"
   ]
  },
  {
   "cell_type": "code",
   "execution_count": 6,
   "metadata": {},
   "outputs": [],
   "source": [
    "# 호선별 인덱스 범위 정의\n",
    "line_ranges = {\n",
    "    '1호선': (0, 19),\n",
    "    '2호선': (20, 121),\n",
    "    '3호선': (122, 189),\n",
    "    '4호선': (190, 241),\n",
    "    '5호선': (242, 353),\n",
    "    '6호선': (354, 431),\n",
    "    '7호선': (432, 515),\n",
    "    '8호선': (416, 5151)\n",
    "}\n",
    "\n",
    "Average_Congestion_RH = []\n",
    "\n",
    "# 각 호선의 출근시간대 평균 혼잡도 계산\n",
    "for line, (start, end) in line_ranges.items():\n",
    "    jam = df_jam.loc[start:end, '7시00분':'9시00분']\n",
    "    jam['average'] = jam.mean(axis=1)\n",
    "    Average_Congestion_RH.append(jam['average'].mean(axis=0))"
   ]
  },
  {
   "cell_type": "markdown",
   "metadata": {},
   "source": [
    "(3) 운행시격과 평균 혼잡도를 하나의 데이터프레임으로 저장"
   ]
  },
  {
   "cell_type": "code",
   "execution_count": 7,
   "metadata": {},
   "outputs": [],
   "source": [
    "df_1= pd.DataFrame({\n",
    "    'Train_Interval': Train_Interval,\n",
    "    'Average_Congestion_RH': Average_Congestion_RH\n",
    "})"
   ]
  },
  {
   "cell_type": "markdown",
   "metadata": {},
   "source": [
    "(4) 운행 시격(x)에 따른 평균 혼잡도(y)의 관계를 그래프로 출력"
   ]
  },
  {
   "cell_type": "code",
   "execution_count": 8,
   "metadata": {},
   "outputs": [
    {
     "data": {
      "image/png": "[encoded data removed]",
      "text/plain": [
       "<Figure size 1000x600 with 1 Axes>"
      ]
     },
     "metadata": {},
     "output_type": "display_data"
    }
   ],
   "source": [
    "plt.figure(figsize=(10, 6))\n",
    "\n",
    "# 점 그래프\n",
    "plt.scatter(df_1['Train_Interval'], df_1['Average_Congestion_RH'], color='blue', marker='o')\n",
    "\n",
    "# 추세선\n",
    "z = np.polyfit(df_1['Train_Interval'], df_1['Average_Congestion_RH'], 1)\n",
    "p = np.poly1d(z)\n",
    "plt.plot(df_1['Train_Interval'], p(df_1['Train_Interval']), \"r--\")\n",
    "\n",
    "plt.title('The relationship between train interval and the average congestion')\n",
    "plt.xlabel('Train interval')\n",
    "plt.ylabel('The average congestion')\n",
    "plt.grid(True)\n",
    "plt.show()"
   ]
  },
  {
   "cell_type": "markdown",
   "metadata": {},
   "source": [
    "분석: 운행시격(운행하는 열차 사이 시간 차이)이 높은 열차일수록 자주 오지않으니 교통량 해소에 영향을 미칠 것 이라 생각해 가설을 설정했다. 하지만 운행시격이 클수록 출근시간대의 평균 혼잡도는 오히려 낮은 추세를 보였다."
   ]
  },
  {
   "cell_type": "markdown",
   "metadata": {},
   "source": [
    "### 4-2. 표정 속도가 커질수록 혼잡도가 줄어들 것이다."
   ]
  },
  {
   "cell_type": "markdown",
   "metadata": {},
   "source": [
    "(1) 표정속도 추출"
   ]
  },
  {
   "cell_type": "code",
   "execution_count": 9,
   "metadata": {},
   "outputs": [],
   "source": [
    "Average_Speed= df_train['표정속도'].tolist()\n",
    "Average_Speed[1]= '32.5'\n",
    "Average_Speed= [float(i) for i in Average_Speed]"
   ]
  },
  {
   "cell_type": "markdown",
   "metadata": {},
   "source": [
    "(2) 각 호선의 평균 혼잡도 계산"
   ]
  },
  {
   "cell_type": "code",
   "execution_count": 10,
   "metadata": {},
   "outputs": [],
   "source": [
    "Average_Congestion = []\n",
    "\n",
    "# 각 호선의 평균 혼잡도 계산\n",
    "for line, (start, end) in line_ranges.items():\n",
    "    jam = df_jam.loc[start:end, '5시30분':'01시00분']\n",
    "    jam['average'] = jam.mean(axis=1)\n",
    "    Average_Congestion.append(jam['average'].mean(axis=0))"
   ]
  },
  {
   "cell_type": "markdown",
   "metadata": {},
   "source": [
    "(3) 표정속도와 평균 혼잡도를 하나의 데이터프레임으로 저장"
   ]
  },
  {
   "cell_type": "code",
   "execution_count": 11,
   "metadata": {},
   "outputs": [],
   "source": [
    "df_2= pd.DataFrame({\n",
    "    'Average_Speed': Average_Speed,\n",
    "    'Average_Congestion': Average_Congestion\n",
    "})"
   ]
  },
  {
   "cell_type": "markdown",
   "metadata": {},
   "source": [
    "(4) 표정속도(x)에 따른 평균혼잡도(y)의 관계를 그래프로 출력"
   ]
  },
  {
   "cell_type": "code",
   "execution_count": 12,
   "metadata": {},
   "outputs": [
    {
     "data": {
      "image/png": "[encoded data removed]",
      "text/plain": [
       "<Figure size 1000x600 with 1 Axes>"
      ]
     },
     "metadata": {},
     "output_type": "display_data"
    }
   ],
   "source": [
    "plt.figure(figsize=(10, 6))\n",
    "\n",
    "# 점 그래프\n",
    "plt.scatter(df_2['Average_Speed'], df_2['Average_Congestion'], color='blue', marker='o')\n",
    "\n",
    "# 추세선\n",
    "z = np.polyfit(df_2['Average_Speed'], df_2['Average_Congestion'], 1)\n",
    "p = np.poly1d(z)\n",
    "plt.plot(df_2['Average_Speed'], p(df_2['Average_Speed']), \"r--\")\n",
    "\n",
    "plt.title('The relationship between average speed and the average congestion')\n",
    "plt.xlabel('Average speed')\n",
    "plt.ylabel('The average congestion')\n",
    "plt.grid(True)\n",
    "plt.show()"
   ]
  },
  {
   "cell_type": "markdown",
   "metadata": {},
   "source": [
    "분석: 표정속도(운행거리를 소요시간으로 나눈 값)이 높은 열차일수록 빠르게 교통량 해소할 것 이라 생각해 가설을 설정했다. 하지만 표정속도와 혼잡도는 양의 상관관계를 가지는 듯한 추세를 보이지만 거의 무관한 그래프 모양을 보였다."
   ]
  },
  {
   "cell_type": "markdown",
   "metadata": {},
   "source": [
    "### 4-3. 평일 운행 횟수가 커질수록 혼잡도가 줄어들 것이다."
   ]
  },
  {
   "cell_type": "markdown",
   "metadata": {},
   "source": [
    "(1) 평일 운행횟수 추출"
   ]
  },
  {
   "cell_type": "code",
   "execution_count": 13,
   "metadata": {},
   "outputs": [],
   "source": [
    "Number_Operaion= df_train['운행횟수_평일'].tolist()\n",
    "Number_Operaion[0]= '589'\n",
    "Number_Operaion[1]= '528'\n",
    "Number_Operaion[2]= '407'\n",
    "Number_Operaion[3]= '476'\n",
    "Number_Operaion= [int(i) for i in Number_Operaion]"
   ]
  },
  {
   "cell_type": "markdown",
   "metadata": {},
   "source": [
    "(2) 각 호선의 평균혼잡도는 4-2에서 계산한 값을 사용"
   ]
  },
  {
   "cell_type": "markdown",
   "metadata": {},
   "source": [
    "(3) 운행횟수와 평균 혼잡도를 하나의 데이터프레임으로 저장"
   ]
  },
  {
   "cell_type": "code",
   "execution_count": 14,
   "metadata": {},
   "outputs": [],
   "source": [
    "df_3= pd.DataFrame({\n",
    "    'Number_Operaion': Number_Operaion,\n",
    "    'Average_Congestion': Average_Congestion\n",
    "})"
   ]
  },
  {
   "cell_type": "markdown",
   "metadata": {},
   "source": [
    "(4) 운행횟수(x)에 따른 평균혼잡도(y)의 관계를 그래프로 출력"
   ]
  },
  {
   "cell_type": "code",
   "execution_count": 15,
   "metadata": {},
   "outputs": [
    {
     "data": {
      "image/png": "[encoded data removed]",
      "text/plain": [
       "<Figure size 1000x600 with 1 Axes>"
      ]
     },
     "metadata": {},
     "output_type": "display_data"
    }
   ],
   "source": [
    "plt.figure(figsize=(10, 6))\n",
    "\n",
    "# 점 그래프\n",
    "plt.scatter(df_3['Number_Operaion'], df_3['Average_Congestion'], color='blue', marker='o')\n",
    "\n",
    "# 추세선\n",
    "z = np.polyfit(df_3['Number_Operaion'], df_3['Average_Congestion'], 1)\n",
    "p = np.poly1d(z)\n",
    "plt.plot(df_3['Number_Operaion'], p(df_3['Number_Operaion']), \"r--\")\n",
    "\n",
    "plt.title('The relationship between the number of operations and the average congestion')\n",
    "plt.xlabel('The number of operation')\n",
    "plt.ylabel('The average congestion')\n",
    "plt.grid(True)\n",
    "plt.show()"
   ]
  },
  {
   "cell_type": "markdown",
   "metadata": {},
   "source": [
    "분석: 운행 횟수가 높은 열차일수록 빠르게 교통량 해소할 것 이라 생각해 가설을 설정했다. 분석 결과 운행횟수에 따라 평균 혼잡도도 증가하는 추세를 보였다."
   ]
  },
  {
   "cell_type": "markdown",
   "metadata": {},
   "source": [
    "> # 5. 결론\n",
    "### '출근 시간대의 열차 운행시격이 늘어날수록 혼잡도가 늘어날 것이다.'\n",
    "- 운행시격과 혼잡도와는 오히려 음의 상관관계를 가지며 이는 각 호선들의 통근 인구가 다르기 때문이라고 추측한다. 또한 [기사 1]에 따르면 출근 시간대에 혼잡한 지하철 노선은 4호선과 7호선이라고 하는데, 두 노선의 운행시격이 2.5로 가장 작다. 따라서 혼잡도가 높은 열차의 운행시격을 줄였지만 운행시격이 적은 노선이 혼잡도가 아직도 높다고 추측한다.\n",
    "32\\~34km/h의 평균속도를 가지는 노선 5개가 26~37%의 다양한 평균 혼잡도를 가지기 때문에 표정속도는 혼잡도와 무관하다고 판단된다."
   ]
  },
  {
   "cell_type": "markdown",
   "metadata": {},
   "source": [
    "### '표정 속도가 커질수록 혼잡도가 줄어들 것이다.'\n",
    "- 32\\~34km/h의 평균속도를 가지는 노선 5개가 26~37%의 다양한 평균 혼잡도를 가지기 때문에 표정속도는 혼잡도와 무관하다고 판단된다."
   ]
  },
  {
   "cell_type": "markdown",
   "metadata": {},
   "source": [
    "### '평일 운행 횟수가 커질수록 혼잡도가 줄어들 것이다.'\n",
    "- 오히려 양의 상관관계를 가지는 추세를 보였는데, 이 또한 반대로 혼잡도가 높은 호선을 운행을 늘린것이 아닐까 추측한다."
   ]
  },
  {
   "cell_type": "markdown",
   "metadata": {},
   "source": [
    "### 최종결론\n",
    "- 따라서 표정속도는 혼잡도와 유의미한 관계를 보이지 않았고, 운행시격과 운행횟수는 예상했던 결과와 정반대의 분석결과를 보였다. 하지만 [기사 1]을 통해 혼잡도가 높은 노선에 운행횟수와 운행시격을 조절했기 때문이라는 추측을 할 수 있었다. 앞으로 이런식으로 데이터 분석을 통해 혼잡도에 영향을 미치는 요인을 찾고 가장 적합한 해결책을 고안해내고 싶다."
   ]
  },
  {
   "cell_type": "markdown",
   "metadata": {},
   "source": [
    "> # 6. 참고 문헌\n",
    "+ [기사 1] [혼잡도 높은 서울 지하철 4·7·9호선, 출퇴근 시간 운행 늘린다](https://www.chosun.com/national/regional/seoul/2023/10/06/VJ2EFCO7GVE2JNLDVM5O5EDONU/) - 조선일보(2023.10.10)"
   ]
  }
 ],
 "metadata": {
  "kernelspec": {
   "display_name": "Python 3 (ipykernel)",
   "language": "python",
   "name": "python3"
  },
  "language_info": {
   "codemirror_mode": {
    "name": "ipython",
    "version": 3
   },
   "file_extension": ".py",
   "mimetype": "text/x-python",
   "name": "python",
   "nbconvert_exporter": "python",
   "pygments_lexer": "ipython3",
   "version": "3.12.3"
  }
 },
 "nbformat": 4,
 "nbformat_minor": 4
}
